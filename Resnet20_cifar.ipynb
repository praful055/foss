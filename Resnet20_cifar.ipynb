{
  "nbformat": 4,
  "nbformat_minor": 0,
  "metadata": {
    "colab": {
      "name": "Resnet20_cifar.ipynb",
      "provenance": [],
      "collapsed_sections": [],
      "include_colab_link": true
    },
    "kernelspec": {
      "name": "python3",
      "display_name": "Python 3"
    },
    "accelerator": "GPU"
  },
  "cells": [
    {
      "cell_type": "markdown",
      "metadata": {
        "id": "view-in-github",
        "colab_type": "text"
      },
      "source": [
        "<a href=\"https://colab.research.google.com/github/praful055/foss/blob/main/Resnet20_cifar.ipynb\" target=\"_parent\"><img src=\"https://colab.research.google.com/assets/colab-badge.svg\" alt=\"Open In Colab\"/></a>"
      ]
    },
    {
      "cell_type": "code",
      "metadata": {
        "id": "ygV6HXsfvV4I"
      },
      "source": [
        "import matplotlib.pyplot as plt\n",
        "import keras\n",
        "from keras.layers import Dense, Conv2D, BatchNormalization, Activation\n",
        "from keras.layers import AveragePooling2D, Input, Flatten\n",
        "from keras.optimizers import Adam\n",
        "from keras.callbacks import ModelCheckpoint, LearningRateScheduler\n",
        "from keras.callbacks import ReduceLROnPlateau\n",
        "from keras.preprocessing.image import ImageDataGenerator\n",
        "from keras.utils import to_categorical\n",
        "from keras.regularizers import l2\n",
        "from keras import backend as K\n",
        "from keras.models import Model\n",
        "from keras.datasets import cifar10\n",
        "import numpy as np\n",
        "import os"
      ],
      "execution_count": null,
      "outputs": []
    },
    {
      "cell_type": "code",
      "metadata": {
        "id": "1j2fcrD6vc-F"
      },
      "source": [
        "batch_size = 32\n",
        "epochs = 50\n",
        "data_augmentation = True\n",
        "num_classes = 10\n",
        "\n",
        "# Subtracting pixel mean improves accuracy\n",
        "subtract_pixel_mean = True\n",
        "\n",
        "n = 3\n",
        "version = 1\n",
        "if version == 1:\n",
        "    depth = n * 6 + 2\n",
        "elif version == 2:\n",
        "    depth = n * 9 + 2\n",
        "def model_type(depth,version):\n",
        "  model_type = 'ResNet%dv%d' % (depth, version)\n",
        "  print(model_type)"
      ],
      "execution_count": null,
      "outputs": []
    },
    {
      "cell_type": "code",
      "metadata": {
        "id": "035pQio8vmsq"
      },
      "source": [
        "(x_train, y_train), (x_test, y_test) = cifar10.load_data()\n",
        "input_shape = x_train.shape[1:]\n",
        "x_train = x_train.astype('float32') / 255\n",
        "x_test = x_test.astype('float32') / 255\n",
        "\n",
        "# If subtract pixel mean is enabled\n",
        "if subtract_pixel_mean:\n",
        "    x_train_mean = np.mean(x_train, axis=0)\n",
        "    x_train -= x_train_mean\n",
        "    x_test -= x_train_mean\n",
        "\n",
        "y_train = to_categorical(y_train, num_classes)\n",
        "y_test = to_categorical(y_test, num_classes)"
      ],
      "execution_count": null,
      "outputs": []
    },
    {
      "cell_type": "code",
      "metadata": {
        "id": "GIJ5sqUCwUgh"
      },
      "source": [
        "def lr_schedule(epoch):\n",
        "    lr = 1e-3\n",
        "    if epoch > 180:\n",
        "        lr *= 0.5e-3\n",
        "    elif epoch > 160:\n",
        "        lr *= 1e-3\n",
        "    elif epoch > 120:\n",
        "        lr *= 1e-2\n",
        "    elif epoch > 80:\n",
        "        lr *= 1e-1\n",
        "    return lr"
      ],
      "execution_count": null,
      "outputs": []
    },
    {
      "cell_type": "code",
      "metadata": {
        "id": "iBT16NjmyRrl"
      },
      "source": [
        "def resnet_layer(inputs,num_filters=16,kernel_size=3,strides=1,activation='relu',batch_normalization=True,conv_first=True):\n",
        "    conv = Conv2D(num_filters,kernel_size=kernel_size,strides=strides,padding='same',kernel_initializer='he_normal',kernel_regularizer=l2(1e-4))\n",
        "    x = inputs\n",
        "    if conv_first:\n",
        "        x = conv(x)\n",
        "        if batch_normalization:\n",
        "            x = BatchNormalization()(x)\n",
        "        if activation is not None:\n",
        "            x = Activation(activation)(x)\n",
        "    else:\n",
        "        if batch_normalization:\n",
        "            x = BatchNormalization()(x)\n",
        "        if activation is not None:\n",
        "            x = Activation(activation)(x)\n",
        "        x = conv(x)\n",
        "    return x"
      ],
      "execution_count": null,
      "outputs": []
    },
    {
      "cell_type": "code",
      "metadata": {
        "id": "1cp6PC2cylIN"
      },
      "source": [
        "def resnet_v1(input_shape, depth, num_classes=10):\n",
        "    if (depth - 2) % 6 != 0:\n",
        "        raise ValueError('depth should be 6n+2 (eg 20, 32, 44 in [a])')\n",
        "    # Start model definition.\n",
        "    num_filters = 16\n",
        "    num_res_blocks = int((depth - 2) / 6)\n",
        "\n",
        "    inputs = Input(shape=input_shape)\n",
        "    x = resnet_layer(inputs=inputs)\n",
        "    for stack in range(3):\n",
        "        for res_block in range(num_res_blocks):\n",
        "            strides = 1\n",
        "            if stack > 0 and res_block == 0:  # first layer but not first stack\n",
        "                strides = 2  # downsample\n",
        "            y = resnet_layer(inputs=x,num_filters=num_filters,strides=strides)\n",
        "            y = resnet_layer(inputs=y,num_filters=num_filters,activation=None)\n",
        "            if stack > 0 and res_block == 0:  # first layer but not first stack\n",
        "                x = resnet_layer(inputs=x,num_filters=num_filters,kernel_size=1,strides=strides,activation=None,batch_normalization=False)\n",
        "            x = keras.layers.add([x, y])\n",
        "            x = Activation('relu')(x)\n",
        "        num_filters *= 2\n",
        "    x = AveragePooling2D(pool_size=8)(x)\n",
        "    y = Flatten()(x)\n",
        "    outputs = Dense(num_classes,activation='softmax',kernel_initializer='he_normal')(y)\n",
        "    # Instantiate model.\n",
        "    model = Model(inputs=inputs, outputs=outputs)\n",
        "    return model"
      ],
      "execution_count": null,
      "outputs": []
    },
    {
      "cell_type": "code",
      "metadata": {
        "id": "06sHMG4Qy6w5"
      },
      "source": [
        "def resnet_v2(input_shape, depth, num_classes=10):\n",
        "    if (depth - 2) % 9 != 0:\n",
        "        raise ValueError('depth should be 9n+2 (eg 56 or 110 in [b])')\n",
        "    # Start model definition.\n",
        "    num_filters_in = 16\n",
        "    num_res_blocks = int((depth - 2) / 9)\n",
        "\n",
        "    inputs = Input(shape=input_shape)\n",
        "    # v2 performs Conv2D with BN-ReLU on input before splitting into 2 paths\n",
        "    x = resnet_layer(inputs=inputs,num_filters=num_filters_in,conv_first=True)\n",
        "    # Instantiate the stack of residual units\n",
        "    for stage in range(3):\n",
        "        for res_block in range(num_res_blocks):\n",
        "            activation = 'relu'\n",
        "            batch_normalization = True\n",
        "            strides = 1\n",
        "            if stage == 0:\n",
        "                num_filters_out = num_filters_in * 4\n",
        "                if res_block == 0:  # first layer and first stage\n",
        "                    activation = None\n",
        "                    batch_normalization = False\n",
        "            else:\n",
        "                num_filters_out = num_filters_in * 2\n",
        "                if res_block == 0:  # first layer but not first stage\n",
        "                    strides = 2    # downsample\n",
        "            # bottleneck residual unit\n",
        "            y = resnet_layer(inputs=x,num_filters=num_filters_in,kernel_size=1,strides=strides,activation=activation,batch_normalization=batch_normalization,conv_first=False)\n",
        "            y = resnet_layer(inputs=y,num_filters=num_filters_in,conv_first=False)\n",
        "            y = resnet_layer(inputs=y,num_filters=num_filters_out,kernel_size=1,conv_first=False)\n",
        "            if res_block == 0:\n",
        "                x = resnet_layer(inputs=x,num_filters=num_filters_out,kernel_size=1,strides=strides,activation=None,batch_normalization=False)\n",
        "            x = keras.layers.add([x, y])\n",
        "        num_filters_in = num_filters_out\n",
        "    x = BatchNormalization()(x)\n",
        "    x = Activation('relu')(x)\n",
        "    x = AveragePooling2D(pool_size=8)(x)\n",
        "    y = Flatten()(x)\n",
        "    outputs = Dense(num_classes,activation='softmax',kernel_initializer='he_normal')(y)\n",
        "    # Instantiate model.\n",
        "    model = Model(inputs=inputs, outputs=outputs)\n",
        "    return model"
      ],
      "execution_count": null,
      "outputs": []
    },
    {
      "cell_type": "code",
      "metadata": {
        "id": "ky8K_HzQzUpg",
        "outputId": "3969696c-1bf1-4fd5-8437-f9d9aca646f7",
        "colab": {
          "base_uri": "https://localhost:8080/",
          "height": 1000
        }
      },
      "source": [
        "if version == 2:\n",
        "    model = resnet_v2(input_shape=input_shape, depth=depth)\n",
        "else:\n",
        "    model = resnet_v1(input_shape=input_shape, depth=depth)\n",
        "\n",
        "model.compile(loss='categorical_crossentropy',optimizer=Adam(learning_rate=lr_schedule(0)),metrics=['accuracy'])\n",
        "model.summary()\n",
        "print(model_type)"
      ],
      "execution_count": null,
      "outputs": [
        {
          "output_type": "stream",
          "text": [
            "Model: \"functional_1\"\n",
            "__________________________________________________________________________________________________\n",
            "Layer (type)                    Output Shape         Param #     Connected to                     \n",
            "==================================================================================================\n",
            "input_1 (InputLayer)            [(None, 32, 32, 3)]  0                                            \n",
            "__________________________________________________________________________________________________\n",
            "conv2d (Conv2D)                 (None, 32, 32, 16)   448         input_1[0][0]                    \n",
            "__________________________________________________________________________________________________\n",
            "batch_normalization (BatchNorma (None, 32, 32, 16)   64          conv2d[0][0]                     \n",
            "__________________________________________________________________________________________________\n",
            "activation (Activation)         (None, 32, 32, 16)   0           batch_normalization[0][0]        \n",
            "__________________________________________________________________________________________________\n",
            "conv2d_1 (Conv2D)               (None, 32, 32, 16)   2320        activation[0][0]                 \n",
            "__________________________________________________________________________________________________\n",
            "batch_normalization_1 (BatchNor (None, 32, 32, 16)   64          conv2d_1[0][0]                   \n",
            "__________________________________________________________________________________________________\n",
            "activation_1 (Activation)       (None, 32, 32, 16)   0           batch_normalization_1[0][0]      \n",
            "__________________________________________________________________________________________________\n",
            "conv2d_2 (Conv2D)               (None, 32, 32, 16)   2320        activation_1[0][0]               \n",
            "__________________________________________________________________________________________________\n",
            "batch_normalization_2 (BatchNor (None, 32, 32, 16)   64          conv2d_2[0][0]                   \n",
            "__________________________________________________________________________________________________\n",
            "add (Add)                       (None, 32, 32, 16)   0           activation[0][0]                 \n",
            "                                                                 batch_normalization_2[0][0]      \n",
            "__________________________________________________________________________________________________\n",
            "activation_2 (Activation)       (None, 32, 32, 16)   0           add[0][0]                        \n",
            "__________________________________________________________________________________________________\n",
            "conv2d_3 (Conv2D)               (None, 32, 32, 16)   2320        activation_2[0][0]               \n",
            "__________________________________________________________________________________________________\n",
            "batch_normalization_3 (BatchNor (None, 32, 32, 16)   64          conv2d_3[0][0]                   \n",
            "__________________________________________________________________________________________________\n",
            "activation_3 (Activation)       (None, 32, 32, 16)   0           batch_normalization_3[0][0]      \n",
            "__________________________________________________________________________________________________\n",
            "conv2d_4 (Conv2D)               (None, 32, 32, 16)   2320        activation_3[0][0]               \n",
            "__________________________________________________________________________________________________\n",
            "batch_normalization_4 (BatchNor (None, 32, 32, 16)   64          conv2d_4[0][0]                   \n",
            "__________________________________________________________________________________________________\n",
            "add_1 (Add)                     (None, 32, 32, 16)   0           activation_2[0][0]               \n",
            "                                                                 batch_normalization_4[0][0]      \n",
            "__________________________________________________________________________________________________\n",
            "activation_4 (Activation)       (None, 32, 32, 16)   0           add_1[0][0]                      \n",
            "__________________________________________________________________________________________________\n",
            "conv2d_5 (Conv2D)               (None, 32, 32, 16)   2320        activation_4[0][0]               \n",
            "__________________________________________________________________________________________________\n",
            "batch_normalization_5 (BatchNor (None, 32, 32, 16)   64          conv2d_5[0][0]                   \n",
            "__________________________________________________________________________________________________\n",
            "activation_5 (Activation)       (None, 32, 32, 16)   0           batch_normalization_5[0][0]      \n",
            "__________________________________________________________________________________________________\n",
            "conv2d_6 (Conv2D)               (None, 32, 32, 16)   2320        activation_5[0][0]               \n",
            "__________________________________________________________________________________________________\n",
            "batch_normalization_6 (BatchNor (None, 32, 32, 16)   64          conv2d_6[0][0]                   \n",
            "__________________________________________________________________________________________________\n",
            "add_2 (Add)                     (None, 32, 32, 16)   0           activation_4[0][0]               \n",
            "                                                                 batch_normalization_6[0][0]      \n",
            "__________________________________________________________________________________________________\n",
            "activation_6 (Activation)       (None, 32, 32, 16)   0           add_2[0][0]                      \n",
            "__________________________________________________________________________________________________\n",
            "conv2d_7 (Conv2D)               (None, 16, 16, 32)   4640        activation_6[0][0]               \n",
            "__________________________________________________________________________________________________\n",
            "batch_normalization_7 (BatchNor (None, 16, 16, 32)   128         conv2d_7[0][0]                   \n",
            "__________________________________________________________________________________________________\n",
            "activation_7 (Activation)       (None, 16, 16, 32)   0           batch_normalization_7[0][0]      \n",
            "__________________________________________________________________________________________________\n",
            "conv2d_8 (Conv2D)               (None, 16, 16, 32)   9248        activation_7[0][0]               \n",
            "__________________________________________________________________________________________________\n",
            "conv2d_9 (Conv2D)               (None, 16, 16, 32)   544         activation_6[0][0]               \n",
            "__________________________________________________________________________________________________\n",
            "batch_normalization_8 (BatchNor (None, 16, 16, 32)   128         conv2d_8[0][0]                   \n",
            "__________________________________________________________________________________________________\n",
            "add_3 (Add)                     (None, 16, 16, 32)   0           conv2d_9[0][0]                   \n",
            "                                                                 batch_normalization_8[0][0]      \n",
            "__________________________________________________________________________________________________\n",
            "activation_8 (Activation)       (None, 16, 16, 32)   0           add_3[0][0]                      \n",
            "__________________________________________________________________________________________________\n",
            "conv2d_10 (Conv2D)              (None, 16, 16, 32)   9248        activation_8[0][0]               \n",
            "__________________________________________________________________________________________________\n",
            "batch_normalization_9 (BatchNor (None, 16, 16, 32)   128         conv2d_10[0][0]                  \n",
            "__________________________________________________________________________________________________\n",
            "activation_9 (Activation)       (None, 16, 16, 32)   0           batch_normalization_9[0][0]      \n",
            "__________________________________________________________________________________________________\n",
            "conv2d_11 (Conv2D)              (None, 16, 16, 32)   9248        activation_9[0][0]               \n",
            "__________________________________________________________________________________________________\n",
            "batch_normalization_10 (BatchNo (None, 16, 16, 32)   128         conv2d_11[0][0]                  \n",
            "__________________________________________________________________________________________________\n",
            "add_4 (Add)                     (None, 16, 16, 32)   0           activation_8[0][0]               \n",
            "                                                                 batch_normalization_10[0][0]     \n",
            "__________________________________________________________________________________________________\n",
            "activation_10 (Activation)      (None, 16, 16, 32)   0           add_4[0][0]                      \n",
            "__________________________________________________________________________________________________\n",
            "conv2d_12 (Conv2D)              (None, 16, 16, 32)   9248        activation_10[0][0]              \n",
            "__________________________________________________________________________________________________\n",
            "batch_normalization_11 (BatchNo (None, 16, 16, 32)   128         conv2d_12[0][0]                  \n",
            "__________________________________________________________________________________________________\n",
            "activation_11 (Activation)      (None, 16, 16, 32)   0           batch_normalization_11[0][0]     \n",
            "__________________________________________________________________________________________________\n",
            "conv2d_13 (Conv2D)              (None, 16, 16, 32)   9248        activation_11[0][0]              \n",
            "__________________________________________________________________________________________________\n",
            "batch_normalization_12 (BatchNo (None, 16, 16, 32)   128         conv2d_13[0][0]                  \n",
            "__________________________________________________________________________________________________\n",
            "add_5 (Add)                     (None, 16, 16, 32)   0           activation_10[0][0]              \n",
            "                                                                 batch_normalization_12[0][0]     \n",
            "__________________________________________________________________________________________________\n",
            "activation_12 (Activation)      (None, 16, 16, 32)   0           add_5[0][0]                      \n",
            "__________________________________________________________________________________________________\n",
            "conv2d_14 (Conv2D)              (None, 8, 8, 64)     18496       activation_12[0][0]              \n",
            "__________________________________________________________________________________________________\n",
            "batch_normalization_13 (BatchNo (None, 8, 8, 64)     256         conv2d_14[0][0]                  \n",
            "__________________________________________________________________________________________________\n",
            "activation_13 (Activation)      (None, 8, 8, 64)     0           batch_normalization_13[0][0]     \n",
            "__________________________________________________________________________________________________\n",
            "conv2d_15 (Conv2D)              (None, 8, 8, 64)     36928       activation_13[0][0]              \n",
            "__________________________________________________________________________________________________\n",
            "conv2d_16 (Conv2D)              (None, 8, 8, 64)     2112        activation_12[0][0]              \n",
            "__________________________________________________________________________________________________\n",
            "batch_normalization_14 (BatchNo (None, 8, 8, 64)     256         conv2d_15[0][0]                  \n",
            "__________________________________________________________________________________________________\n",
            "add_6 (Add)                     (None, 8, 8, 64)     0           conv2d_16[0][0]                  \n",
            "                                                                 batch_normalization_14[0][0]     \n",
            "__________________________________________________________________________________________________\n",
            "activation_14 (Activation)      (None, 8, 8, 64)     0           add_6[0][0]                      \n",
            "__________________________________________________________________________________________________\n",
            "conv2d_17 (Conv2D)              (None, 8, 8, 64)     36928       activation_14[0][0]              \n",
            "__________________________________________________________________________________________________\n",
            "batch_normalization_15 (BatchNo (None, 8, 8, 64)     256         conv2d_17[0][0]                  \n",
            "__________________________________________________________________________________________________\n",
            "activation_15 (Activation)      (None, 8, 8, 64)     0           batch_normalization_15[0][0]     \n",
            "__________________________________________________________________________________________________\n",
            "conv2d_18 (Conv2D)              (None, 8, 8, 64)     36928       activation_15[0][0]              \n",
            "__________________________________________________________________________________________________\n",
            "batch_normalization_16 (BatchNo (None, 8, 8, 64)     256         conv2d_18[0][0]                  \n",
            "__________________________________________________________________________________________________\n",
            "add_7 (Add)                     (None, 8, 8, 64)     0           activation_14[0][0]              \n",
            "                                                                 batch_normalization_16[0][0]     \n",
            "__________________________________________________________________________________________________\n",
            "activation_16 (Activation)      (None, 8, 8, 64)     0           add_7[0][0]                      \n",
            "__________________________________________________________________________________________________\n",
            "conv2d_19 (Conv2D)              (None, 8, 8, 64)     36928       activation_16[0][0]              \n",
            "__________________________________________________________________________________________________\n",
            "batch_normalization_17 (BatchNo (None, 8, 8, 64)     256         conv2d_19[0][0]                  \n",
            "__________________________________________________________________________________________________\n",
            "activation_17 (Activation)      (None, 8, 8, 64)     0           batch_normalization_17[0][0]     \n",
            "__________________________________________________________________________________________________\n",
            "conv2d_20 (Conv2D)              (None, 8, 8, 64)     36928       activation_17[0][0]              \n",
            "__________________________________________________________________________________________________\n",
            "batch_normalization_18 (BatchNo (None, 8, 8, 64)     256         conv2d_20[0][0]                  \n",
            "__________________________________________________________________________________________________\n",
            "add_8 (Add)                     (None, 8, 8, 64)     0           activation_16[0][0]              \n",
            "                                                                 batch_normalization_18[0][0]     \n",
            "__________________________________________________________________________________________________\n",
            "activation_18 (Activation)      (None, 8, 8, 64)     0           add_8[0][0]                      \n",
            "__________________________________________________________________________________________________\n",
            "average_pooling2d (AveragePooli (None, 1, 1, 64)     0           activation_18[0][0]              \n",
            "__________________________________________________________________________________________________\n",
            "flatten (Flatten)               (None, 64)           0           average_pooling2d[0][0]          \n",
            "__________________________________________________________________________________________________\n",
            "dense (Dense)                   (None, 10)           650         flatten[0][0]                    \n",
            "==================================================================================================\n",
            "Total params: 274,442\n",
            "Trainable params: 273,066\n",
            "Non-trainable params: 1,376\n",
            "__________________________________________________________________________________________________\n",
            "ResNet20v1\n"
          ],
          "name": "stdout"
        }
      ]
    },
    {
      "cell_type": "code",
      "metadata": {
        "id": "1w55i1twzuLx"
      },
      "source": [
        "gen = ImageDataGenerator(rotation_range=8, width_shift_range=0.08, shear_range=0.3,height_shift_range=0.08, zoom_range=0.08)\n",
        "batches = gen.flow(x_train, y_train, batch_size=256)\n",
        "val_batches = gen.flow(x_test, y_test, batch_size=256)\n",
        "history1 = model.fit_generator(batches, steps_per_epoch=48000//256, epochs=50,validation_data=val_batches, validation_steps=12000//256, use_multiprocessing=True)"
      ],
      "execution_count": null,
      "outputs": []
    },
    {
      "cell_type": "code",
      "metadata": {
        "id": "0Gsmx99s0FVW",
        "outputId": "f69aba08-13ee-4483-e68c-41a7801b932d",
        "colab": {
          "base_uri": "https://localhost:8080/",
          "height": 1000
        }
      },
      "source": [
        "score1 = model.evaluate(x_test, y_test, verbose=0)\n",
        "print('Resnet20V1')\n",
        "print('Test loss:', score1[0])\n",
        "print('Test accuracy:', score1[1])\n",
        "accuracy = history1.history['accuracy']\n",
        "val_accuracy = history1.history['val_accuracy']\n",
        "loss = history1.history['loss']\n",
        "val_loss = history1.history['val_loss']\n",
        "epochs = range(len(accuracy))\n",
        "\n",
        "plt.plot(epochs, accuracy, 'bo', label='Training accuracy')\n",
        "plt.plot(epochs, val_accuracy, 'b', label='Validation accuracy')\n",
        "plt.title('Training and validation accuracy')\n",
        "plt.legend()\n",
        "plt.figure()\n",
        "\n",
        "plt.plot(epochs, loss, 'bo', label='Training loss')\n",
        "plt.plot(epochs, val_loss, 'b', label='Validation loss')\n",
        "plt.title('Training and validation loss')\n",
        "plt.legend()\n",
        "plt.show()"
      ],
      "execution_count": null,
      "outputs": [
        {
          "output_type": "stream",
          "text": [
            "Using real-time data augmentation.\n",
            "WARNING:tensorflow:From <ipython-input-12-125bcfb2c774>:54: Model.fit_generator (from tensorflow.python.keras.engine.training) is deprecated and will be removed in a future version.\n",
            "Instructions for updating:\n",
            "Please use Model.fit, which supports generators.\n",
            "Epoch 1/20\n",
            "1563/1563 [==============================] - ETA: 0s - loss: 1.5629 - accuracy: 0.4902WARNING:tensorflow:Can save best model only with val_acc available, skipping.\n",
            "1563/1563 [==============================] - 35s 22ms/step - loss: 1.5629 - accuracy: 0.4902 - val_loss: 1.3068 - val_accuracy: 0.5782\n",
            "Epoch 2/20\n",
            "1560/1563 [============================>.] - ETA: 0s - loss: 1.1819 - accuracy: 0.6377WARNING:tensorflow:Can save best model only with val_acc available, skipping.\n",
            "1563/1563 [==============================] - 35s 22ms/step - loss: 1.1820 - accuracy: 0.6377 - val_loss: 1.0784 - val_accuracy: 0.6752\n",
            "Epoch 3/20\n",
            "1560/1563 [============================>.] - ETA: 0s - loss: 1.0286 - accuracy: 0.6966WARNING:tensorflow:Can save best model only with val_acc available, skipping.\n",
            "1563/1563 [==============================] - 35s 22ms/step - loss: 1.0287 - accuracy: 0.6966 - val_loss: 1.3713 - val_accuracy: 0.6180\n",
            "Epoch 4/20\n",
            "1562/1563 [============================>.] - ETA: 0s - loss: 0.9389 - accuracy: 0.7303WARNING:tensorflow:Can save best model only with val_acc available, skipping.\n",
            "1563/1563 [==============================] - 35s 22ms/step - loss: 0.9389 - accuracy: 0.7302 - val_loss: 1.0223 - val_accuracy: 0.7098\n",
            "Epoch 5/20\n",
            "1561/1563 [============================>.] - ETA: 0s - loss: 0.8777 - accuracy: 0.7546WARNING:tensorflow:Can save best model only with val_acc available, skipping.\n",
            "1563/1563 [==============================] - 35s 22ms/step - loss: 0.8776 - accuracy: 0.7546 - val_loss: 1.8369 - val_accuracy: 0.5359\n",
            "Epoch 6/20\n",
            "1562/1563 [============================>.] - ETA: 0s - loss: 0.8312 - accuracy: 0.7717WARNING:tensorflow:Can save best model only with val_acc available, skipping.\n",
            "1563/1563 [==============================] - 35s 22ms/step - loss: 0.8311 - accuracy: 0.7717 - val_loss: 0.9359 - val_accuracy: 0.7419\n",
            "Epoch 7/20\n",
            "1562/1563 [============================>.] - ETA: 0s - loss: 0.7985 - accuracy: 0.7854WARNING:tensorflow:Can save best model only with val_acc available, skipping.\n",
            "1563/1563 [==============================] - 35s 22ms/step - loss: 0.7986 - accuracy: 0.7854 - val_loss: 0.9263 - val_accuracy: 0.7533\n",
            "Epoch 8/20\n",
            "1560/1563 [============================>.] - ETA: 0s - loss: 0.7597 - accuracy: 0.7990WARNING:tensorflow:Can save best model only with val_acc available, skipping.\n",
            "1563/1563 [==============================] - 35s 23ms/step - loss: 0.7597 - accuracy: 0.7989 - val_loss: 0.8817 - val_accuracy: 0.7617\n",
            "Epoch 9/20\n",
            "1561/1563 [============================>.] - ETA: 0s - loss: 0.7407 - accuracy: 0.8075WARNING:tensorflow:Can save best model only with val_acc available, skipping.\n",
            "1563/1563 [==============================] - 35s 23ms/step - loss: 0.7406 - accuracy: 0.8075 - val_loss: 0.8612 - val_accuracy: 0.7691\n",
            "Epoch 10/20\n",
            "1560/1563 [============================>.] - ETA: 0s - loss: 0.7201 - accuracy: 0.8152WARNING:tensorflow:Can save best model only with val_acc available, skipping.\n",
            "1563/1563 [==============================] - 35s 22ms/step - loss: 0.7199 - accuracy: 0.8152 - val_loss: 0.9287 - val_accuracy: 0.7557\n",
            "Epoch 11/20\n",
            "1561/1563 [============================>.] - ETA: 0s - loss: 0.7002 - accuracy: 0.8218WARNING:tensorflow:Can save best model only with val_acc available, skipping.\n",
            "1563/1563 [==============================] - 35s 22ms/step - loss: 0.7000 - accuracy: 0.8219 - val_loss: 1.0412 - val_accuracy: 0.7348\n",
            "Epoch 12/20\n",
            "1563/1563 [==============================] - ETA: 0s - loss: 0.6891 - accuracy: 0.8274WARNING:tensorflow:Can save best model only with val_acc available, skipping.\n",
            "1563/1563 [==============================] - 35s 23ms/step - loss: 0.6891 - accuracy: 0.8274 - val_loss: 0.9178 - val_accuracy: 0.7674\n",
            "Epoch 13/20\n",
            "1560/1563 [============================>.] - ETA: 0s - loss: 0.6749 - accuracy: 0.8344WARNING:tensorflow:Can save best model only with val_acc available, skipping.\n",
            "1563/1563 [==============================] - 35s 22ms/step - loss: 0.6750 - accuracy: 0.8345 - val_loss: 0.8826 - val_accuracy: 0.7743\n",
            "Epoch 14/20\n",
            "1563/1563 [==============================] - ETA: 0s - loss: 0.6605 - accuracy: 0.8385WARNING:tensorflow:Can save best model only with val_acc available, skipping.\n",
            "1563/1563 [==============================] - 35s 22ms/step - loss: 0.6605 - accuracy: 0.8385 - val_loss: 0.8199 - val_accuracy: 0.7992\n",
            "Epoch 15/20\n",
            "1562/1563 [============================>.] - ETA: 0s - loss: 0.6543 - accuracy: 0.8400WARNING:tensorflow:Can save best model only with val_acc available, skipping.\n",
            "1563/1563 [==============================] - 35s 22ms/step - loss: 0.6544 - accuracy: 0.8400 - val_loss: 0.7929 - val_accuracy: 0.8065\n",
            "Epoch 16/20\n",
            "1563/1563 [==============================] - ETA: 0s - loss: 0.6429 - accuracy: 0.8447WARNING:tensorflow:Can save best model only with val_acc available, skipping.\n",
            "1563/1563 [==============================] - 35s 23ms/step - loss: 0.6429 - accuracy: 0.8447 - val_loss: 0.8666 - val_accuracy: 0.7843\n",
            "Epoch 17/20\n",
            "1563/1563 [==============================] - ETA: 0s - loss: 0.6355 - accuracy: 0.8493WARNING:tensorflow:Can save best model only with val_acc available, skipping.\n",
            "1563/1563 [==============================] - 35s 23ms/step - loss: 0.6355 - accuracy: 0.8493 - val_loss: 0.7447 - val_accuracy: 0.8084\n",
            "Epoch 18/20\n",
            "1560/1563 [============================>.] - ETA: 0s - loss: 0.6254 - accuracy: 0.8513WARNING:tensorflow:Can save best model only with val_acc available, skipping.\n",
            "1563/1563 [==============================] - 35s 22ms/step - loss: 0.6255 - accuracy: 0.8512 - val_loss: 0.7284 - val_accuracy: 0.8252\n",
            "Epoch 19/20\n",
            "1561/1563 [============================>.] - ETA: 0s - loss: 0.6182 - accuracy: 0.8549WARNING:tensorflow:Can save best model only with val_acc available, skipping.\n",
            "1563/1563 [==============================] - 35s 22ms/step - loss: 0.6183 - accuracy: 0.8549 - val_loss: 0.8262 - val_accuracy: 0.7995\n",
            "Epoch 20/20\n",
            "1560/1563 [============================>.] - ETA: 0s - loss: 0.6100 - accuracy: 0.8598WARNING:tensorflow:Can save best model only with val_acc available, skipping.\n",
            "1563/1563 [==============================] - 35s 22ms/step - loss: 0.6104 - accuracy: 0.8597 - val_loss: 0.8118 - val_accuracy: 0.7970\n"
          ],
          "name": "stdout"
        }
      ]
    },
    {
      "cell_type": "code",
      "metadata": {
        "id": "eei6JvPP4aWw",
        "outputId": "c8b3f901-70b5-4bab-87b1-f6c4a3025299",
        "colab": {
          "base_uri": "https://localhost:8080/",
          "height": 67
        }
      },
      "source": [
        "version=2\n",
        "model1 = resnet_v2(input_shape=input_shape, depth=depth)\n",
        "model1.compile(loss='categorical_crossentropy',optimizer=Adam(learning_rate=lr_schedule(0)),metrics=['accuracy'])\n",
        "model1.summary()\n",
        "model_type(depth,version)"
      ],
      "execution_count": null,
      "outputs": [
        {
          "output_type": "stream",
          "text": [
            "CNN with 1 Convolutional Layer\n",
            "Test loss: 0.8117788434028625\n",
            "Test accuracy: 0.796999990940094\n"
          ],
          "name": "stdout"
        }
      ]
    },
    {
      "cell_type": "code",
      "metadata": {
        "id": "NEF6ZcHy97Vl",
        "outputId": "fcd26242-8a99-4bd5-8213-7f0d9e42d619",
        "colab": {
          "base_uri": "https://localhost:8080/",
          "height": 457
        }
      },
      "source": [
        "gen1 = ImageDataGenerator(rotation_range=8, width_shift_range=0.08, shear_range=0.3,height_shift_range=0.08, zoom_range=0.08)\n",
        "batches1 = gen1.flow(x_train, y_train, batch_size=256)\n",
        "val_batches1 = gen1.flow(x_test, y_test, batch_size=256)\n",
        "history2 = model1.fit_generator(batches1, steps_per_epoch=48000//256, epochs=5,validation_data=val_batches1, validation_steps=12000//256, use_multiprocessing=True)"
      ],
      "execution_count": null,
      "outputs": [
        {
          "output_type": "stream",
          "text": [
            "Epoch 1/5\n",
            "WARNING:tensorflow:multiprocessing can interact badly with TensorFlow, causing nondeterministic deadlocks. For high performance data pipelines tf.data is recommended.\n",
            "187/187 [==============================] - ETA: 0s - loss: 0.5073 - accuracy: 0.8941WARNING:tensorflow:multiprocessing can interact badly with TensorFlow, causing nondeterministic deadlocks. For high performance data pipelines tf.data is recommended.\n",
            "WARNING:tensorflow:multiprocessing can interact badly with TensorFlow, causing nondeterministic deadlocks. For high performance data pipelines tf.data is recommended.\n",
            "187/187 [==============================] - 32s 171ms/step - loss: 0.5073 - accuracy: 0.8941 - val_loss: 0.5754 - val_accuracy: 0.8680\n",
            "Epoch 2/5\n",
            "WARNING:tensorflow:multiprocessing can interact badly with TensorFlow, causing nondeterministic deadlocks. For high performance data pipelines tf.data is recommended.\n",
            "187/187 [==============================] - ETA: 0s - loss: 0.4615 - accuracy: 0.9089WARNING:tensorflow:multiprocessing can interact badly with TensorFlow, causing nondeterministic deadlocks. For high performance data pipelines tf.data is recommended.\n",
            "WARNING:tensorflow:multiprocessing can interact badly with TensorFlow, causing nondeterministic deadlocks. For high performance data pipelines tf.data is recommended.\n",
            "187/187 [==============================] - 33s 174ms/step - loss: 0.4615 - accuracy: 0.9089 - val_loss: 0.5564 - val_accuracy: 0.8744\n",
            "Epoch 3/5\n",
            "WARNING:tensorflow:multiprocessing can interact badly with TensorFlow, causing nondeterministic deadlocks. For high performance data pipelines tf.data is recommended.\n",
            "186/187 [============================>.] - ETA: 0s - loss: 0.4362 - accuracy: 0.9141WARNING:tensorflow:multiprocessing can interact badly with TensorFlow, causing nondeterministic deadlocks. For high performance data pipelines tf.data is recommended.\n",
            "WARNING:tensorflow:multiprocessing can interact badly with TensorFlow, causing nondeterministic deadlocks. For high performance data pipelines tf.data is recommended.\n",
            "187/187 [==============================] - 32s 172ms/step - loss: 0.4361 - accuracy: 0.9141 - val_loss: 0.5774 - val_accuracy: 0.8662\n",
            "Epoch 4/5\n",
            "WARNING:tensorflow:multiprocessing can interact badly with TensorFlow, causing nondeterministic deadlocks. For high performance data pipelines tf.data is recommended.\n",
            "187/187 [==============================] - ETA: 0s - loss: 0.4200 - accuracy: 0.9184WARNING:tensorflow:multiprocessing can interact badly with TensorFlow, causing nondeterministic deadlocks. For high performance data pipelines tf.data is recommended.\n",
            "WARNING:tensorflow:multiprocessing can interact badly with TensorFlow, causing nondeterministic deadlocks. For high performance data pipelines tf.data is recommended.\n",
            "187/187 [==============================] - 33s 175ms/step - loss: 0.4200 - accuracy: 0.9184 - val_loss: 0.6147 - val_accuracy: 0.8555\n",
            "Epoch 5/5\n",
            "WARNING:tensorflow:multiprocessing can interact badly with TensorFlow, causing nondeterministic deadlocks. For high performance data pipelines tf.data is recommended.\n",
            "187/187 [==============================] - ETA: 0s - loss: 0.4042 - accuracy: 0.9228WARNING:tensorflow:multiprocessing can interact badly with TensorFlow, causing nondeterministic deadlocks. For high performance data pipelines tf.data is recommended.\n",
            "WARNING:tensorflow:multiprocessing can interact badly with TensorFlow, causing nondeterministic deadlocks. For high performance data pipelines tf.data is recommended.\n",
            "187/187 [==============================] - 33s 175ms/step - loss: 0.4042 - accuracy: 0.9228 - val_loss: 0.5562 - val_accuracy: 0.8711\n"
          ],
          "name": "stdout"
        }
      ]
    },
    {
      "cell_type": "code",
      "metadata": {
        "id": "X0vq8SHK-2vN",
        "outputId": "28c92d5f-09e2-4ab7-ebe9-1b87c817f544",
        "colab": {
          "base_uri": "https://localhost:8080/",
          "height": 595
        }
      },
      "source": [
        "score2 = model1.evaluate(x_test, y_test, verbose=0)\n",
        "print('Resnet20V2')\n",
        "print('Test loss:', score2[0])\n",
        "print('Test accuracy:', score2[1])\n",
        "accuracy = history2.history['accuracy']\n",
        "val_accuracy = history2.history['val_accuracy']\n",
        "loss = history2.history['loss']\n",
        "val_loss = history2.history['val_loss']\n",
        "epochs = range(len(accuracy))\n",
        "\n",
        "plt.plot(epochs, accuracy, 'bo', label='Training accuracy')\n",
        "plt.plot(epochs, val_accuracy, 'b', label='Validation accuracy')\n",
        "plt.title('Training and validation accuracy')\n",
        "plt.legend()\n",
        "plt.figure()\n",
        "\n",
        "plt.plot(epochs, loss, 'bo', label='Training loss')\n",
        "plt.plot(epochs, val_loss, 'b', label='Validation loss')\n",
        "plt.title('Training and validation loss')\n",
        "plt.legend()\n",
        "plt.show()"
      ],
      "execution_count": null,
      "outputs": [
        {
          "output_type": "stream",
          "text": [
            "CNN with 1 Convolutional Layer\n",
            "Test loss: 0.5664292573928833\n",
            "Test accuracy: 0.8705999851226807\n"
          ],
          "name": "stdout"
        },
        {
          "output_type": "display_data",
          "data": {
            "image/png": "[encoded data removed]",
            "text/plain": [
              "<Figure size 432x288 with 1 Axes>"
            ]
          },
          "metadata": {
            "tags": [],
            "needs_background": "light"
          }
        },
        {
          "output_type": "display_data",
          "data": {
            "image/png": "[encoded data removed]",
            "text/plain": [
              "<Figure size 432x288 with 1 Axes>"
            ]
          },
          "metadata": {
            "tags": [],
            "needs_background": "light"
          }
        }
      ]
    }
  ]
}