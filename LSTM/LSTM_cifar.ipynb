{
  "nbformat": 4,
  "nbformat_minor": 0,
  "metadata": {
    "colab": {
      "name": "LSTM_cifar.ipynb",
      "provenance": []
    },
    "kernelspec": {
      "name": "python3",
      "display_name": "Python 3"
    },
    "accelerator": "GPU"
  },
  "cells": [
    {
      "cell_type": "code",
      "metadata": {
        "id": "K1Qn6Ih68jKy"
      },
      "source": [
        "# Import all the necessary files!\n",
        "import os\n",
        "import tensorflow as tf\n",
        "import keras\n",
        "from tensorflow.keras import layers\n",
        "from tensorflow.keras import Model\n",
        "from os import getcwd\n",
        "from keras.datasets import cifar10"
      ],
      "execution_count": 1,
      "outputs": []
    },
    {
      "cell_type": "code",
      "metadata": {
        "id": "5inZqSXP85NP",
        "outputId": "a8287980-6a52-46fd-ea10-1b80b2167078",
        "colab": {
          "base_uri": "https://localhost:8080/",
          "height": 84
        }
      },
      "source": [
        "(training_images, training_labels), (test_images, test_labels) = cifar10.load_data()\n",
        "training_images = training_images.reshape(50000, 1024, 3)\n",
        "print(training_images[1].shape)\n",
        "print(training_labels[1])"
      ],
      "execution_count": 2,
      "outputs": [
        {
          "output_type": "stream",
          "text": [
            "Downloading data from https://www.cs.toronto.edu/~kriz/cifar-10-python.tar.gz\n",
            "170500096/170498071 [==============================] - 6s 0us/step\n",
            "(1024, 3)\n",
            "[9]\n"
          ],
          "name": "stdout"
        }
      ]
    },
    {
      "cell_type": "code",
      "metadata": {
        "id": "5hHBlhPS9OZ1"
      },
      "source": [
        "#Reshaping and Normalizing training and test images\n",
        "training_images = training_images.reshape(50000, 1024, 3)\n",
        "training_images = training_images/255.0\n",
        "test_images = test_images.reshape(10000, 1024, 3)\n",
        "test_images = test_images/255.0"
      ],
      "execution_count": 3,
      "outputs": []
    },
    {
      "cell_type": "code",
      "metadata": {
        "id": "Ou2HRn6Z9Rcc"
      },
      "source": [
        "model = tf.keras.models.Sequential([\n",
        "        tf.keras.layers.Bidirectional(tf.keras.layers.LSTM(32, input_shape=(1024, 3), return_sequences=True)),\n",
        "        tf.keras.layers.Bidirectional(tf.keras.layers.LSTM(32)),\n",
        "        tf.keras.layers.Dropout(0.25),\n",
        "        tf.keras.layers.Flatten(),\n",
        "        tf.keras.layers.Dense(128, activation='relu'),\n",
        "        tf.keras.layers.Dropout(0.25),\n",
        "        tf.keras.layers.Dense(64, activation='relu'),\n",
        "        tf.keras.layers.Dense(10, activation='softmax')\n",
        "        ])"
      ],
      "execution_count": 4,
      "outputs": []
    },
    {
      "cell_type": "code",
      "metadata": {
        "id": "zGOiaZT89WlL",
        "outputId": "60d80f3d-505f-41b4-fb1f-7424464ca4ce",
        "colab": {
          "base_uri": "https://localhost:8080/",
          "height": 1000
        }
      },
      "source": [
        "model.compile(optimizer='adam',loss = 'sparse_categorical_crossentropy',metrics=[\"acc\"])\n",
        "history = model.fit(training_images, training_labels, batch_size = 50, epochs=50)"
      ],
      "execution_count": 12,
      "outputs": [
        {
          "output_type": "stream",
          "text": [
            "Epoch 1/50\n",
            "1000/1000 [==============================] - 122s 122ms/step - loss: 1.8902 - acc: 0.3156\n",
            "Epoch 2/50\n",
            "1000/1000 [==============================] - 120s 120ms/step - loss: 1.8836 - acc: 0.3209\n",
            "Epoch 3/50\n",
            "1000/1000 [==============================] - 118s 118ms/step - loss: 1.8742 - acc: 0.3192\n",
            "Epoch 4/50\n",
            "1000/1000 [==============================] - 116s 116ms/step - loss: 1.8467 - acc: 0.3314\n",
            "Epoch 5/50\n",
            "1000/1000 [==============================] - 116s 116ms/step - loss: 1.8363 - acc: 0.3315\n",
            "Epoch 6/50\n",
            "1000/1000 [==============================] - 115s 115ms/step - loss: 1.8415 - acc: 0.3329\n",
            "Epoch 7/50\n",
            "1000/1000 [==============================] - 115s 115ms/step - loss: 1.8368 - acc: 0.3349\n",
            "Epoch 8/50\n",
            "1000/1000 [==============================] - 120s 120ms/step - loss: 1.8044 - acc: 0.3457\n",
            "Epoch 9/50\n",
            "1000/1000 [==============================] - 116s 116ms/step - loss: 1.7553 - acc: 0.3670\n",
            "Epoch 10/50\n",
            "1000/1000 [==============================] - 116s 116ms/step - loss: 1.7233 - acc: 0.3778\n",
            "Epoch 11/50\n",
            "1000/1000 [==============================] - 116s 116ms/step - loss: 1.6808 - acc: 0.3923\n",
            "Epoch 12/50\n",
            "1000/1000 [==============================] - 112s 112ms/step - loss: 1.6464 - acc: 0.4029\n",
            "Epoch 13/50\n",
            "1000/1000 [==============================] - 113s 113ms/step - loss: 1.6304 - acc: 0.4050\n",
            "Epoch 14/50\n",
            "1000/1000 [==============================] - 113s 113ms/step - loss: 1.5806 - acc: 0.4236\n",
            "Epoch 15/50\n",
            "1000/1000 [==============================] - 115s 115ms/step - loss: 1.5410 - acc: 0.4401\n",
            "Epoch 16/50\n",
            "1000/1000 [==============================] - 120s 120ms/step - loss: 1.5072 - acc: 0.4492\n",
            "Epoch 17/50\n",
            "1000/1000 [==============================] - 121s 121ms/step - loss: 1.4674 - acc: 0.4640\n",
            "Epoch 18/50\n",
            "1000/1000 [==============================] - 122s 122ms/step - loss: 1.4319 - acc: 0.4773\n",
            "Epoch 19/50\n",
            "1000/1000 [==============================] - 122s 122ms/step - loss: 1.4056 - acc: 0.4856\n",
            "Epoch 20/50\n",
            "1000/1000 [==============================] - 122s 122ms/step - loss: 1.3758 - acc: 0.4956\n",
            "Epoch 21/50\n",
            "1000/1000 [==============================] - 121s 121ms/step - loss: 1.8159 - acc: 0.3318\n",
            "Epoch 22/50\n",
            "1000/1000 [==============================] - 118s 118ms/step - loss: 1.7182 - acc: 0.3682\n",
            "Epoch 23/50\n",
            "1000/1000 [==============================] - 115s 115ms/step - loss: 1.6038 - acc: 0.4086\n",
            "Epoch 24/50\n",
            "1000/1000 [==============================] - 114s 114ms/step - loss: 1.5159 - acc: 0.4417\n",
            "Epoch 25/50\n",
            "1000/1000 [==============================] - 114s 114ms/step - loss: 1.4380 - acc: 0.4721\n",
            "Epoch 26/50\n",
            "1000/1000 [==============================] - 113s 113ms/step - loss: 1.3887 - acc: 0.4884\n",
            "Epoch 27/50\n",
            "1000/1000 [==============================] - 112s 112ms/step - loss: 1.3550 - acc: 0.5024\n",
            "Epoch 28/50\n",
            "1000/1000 [==============================] - 111s 111ms/step - loss: 1.3254 - acc: 0.5160\n",
            "Epoch 29/50\n",
            "1000/1000 [==============================] - 111s 111ms/step - loss: 1.3076 - acc: 0.5210\n",
            "Epoch 30/50\n",
            "1000/1000 [==============================] - 111s 111ms/step - loss: 1.2821 - acc: 0.5317\n",
            "Epoch 31/50\n",
            "1000/1000 [==============================] - 112s 112ms/step - loss: 1.2676 - acc: 0.5356\n",
            "Epoch 32/50\n",
            "1000/1000 [==============================] - 112s 112ms/step - loss: 1.2513 - acc: 0.5431\n",
            "Epoch 33/50\n",
            "1000/1000 [==============================] - 112s 112ms/step - loss: 1.2373 - acc: 0.5503\n",
            "Epoch 34/50\n",
            "1000/1000 [==============================] - 112s 112ms/step - loss: 1.2171 - acc: 0.5610\n",
            "Epoch 35/50\n",
            "1000/1000 [==============================] - 115s 115ms/step - loss: 1.2031 - acc: 0.5652\n",
            "Epoch 36/50\n",
            "1000/1000 [==============================] - 114s 114ms/step - loss: 1.1863 - acc: 0.5697\n",
            "Epoch 37/50\n",
            "1000/1000 [==============================] - 113s 113ms/step - loss: 1.1672 - acc: 0.5768\n",
            "Epoch 38/50\n",
            "1000/1000 [==============================] - 112s 112ms/step - loss: 1.1607 - acc: 0.5819\n",
            "Epoch 39/50\n",
            "1000/1000 [==============================] - 112s 112ms/step - loss: 1.1352 - acc: 0.5894\n",
            "Epoch 40/50\n",
            "1000/1000 [==============================] - 113s 113ms/step - loss: 1.1296 - acc: 0.5958\n",
            "Epoch 41/50\n",
            "1000/1000 [==============================] - 113s 113ms/step - loss: 1.1137 - acc: 0.5994\n",
            "Epoch 42/50\n",
            "1000/1000 [==============================] - 112s 112ms/step - loss: 1.0959 - acc: 0.6057\n",
            "Epoch 43/50\n",
            "1000/1000 [==============================] - 112s 112ms/step - loss: 1.0881 - acc: 0.6092\n",
            "Epoch 44/50\n",
            "1000/1000 [==============================] - 112s 112ms/step - loss: 1.0787 - acc: 0.6110\n",
            "Epoch 45/50\n",
            "1000/1000 [==============================] - 115s 115ms/step - loss: 1.0672 - acc: 0.6190\n",
            "Epoch 46/50\n",
            "1000/1000 [==============================] - 115s 115ms/step - loss: 1.0513 - acc: 0.6213\n",
            "Epoch 47/50\n",
            "1000/1000 [==============================] - 115s 115ms/step - loss: 1.0446 - acc: 0.6271\n",
            "Epoch 48/50\n",
            "1000/1000 [==============================] - 116s 116ms/step - loss: 1.0327 - acc: 0.6305\n",
            "Epoch 49/50\n",
            "1000/1000 [==============================] - 115s 115ms/step - loss: 1.0207 - acc: 0.6346\n",
            "Epoch 50/50\n",
            "1000/1000 [==============================] - 116s 116ms/step - loss: 1.0144 - acc: 0.6374\n"
          ],
          "name": "stdout"
        }
      ]
    },
    {
      "cell_type": "code",
      "metadata": {
        "id": "mc2GfcK4HYaI",
        "outputId": "014c5b75-512f-4b06-bb26-06b161d21667",
        "colab": {
          "base_uri": "https://localhost:8080/",
          "height": 34
        }
      },
      "source": [
        "_, acc = model.evaluate(test_images, test_labels, verbose=0)\n",
        "print('> %.3f' % (acc * 100.0))"
      ],
      "execution_count": 13,
      "outputs": [
        {
          "output_type": "stream",
          "text": [
            "> 63.020\n"
          ],
          "name": "stdout"
        }
      ]
    },
    {
      "cell_type": "code",
      "metadata": {
        "id": "fIcUfP4uHqd3",
        "outputId": "fbdae00d-2ca5-4cab-e638-8fc64e717cd3",
        "colab": {
          "base_uri": "https://localhost:8080/",
          "height": 298
        }
      },
      "source": [
        "import matplotlib.pyplot as pyplot\n",
        "pyplot.subplot(211)\n",
        "pyplot.title('Cross Entropy Loss')\n",
        "pyplot.plot(history.history['loss'], color='blue', label='train')\n",
        "\n",
        "pyplot.subplot(212)\n",
        "pyplot.title('Classification Accuracy')\n",
        "pyplot.plot(history.history['acc'], color='blue', label='train')"
      ],
      "execution_count": 14,
      "outputs": [
        {
          "output_type": "execute_result",
          "data": {
            "text/plain": [
              "[<matplotlib.lines.Line2D at 0x7f274ca78f60>]"
            ]
          },
          "metadata": {
            "tags": []
          },
          "execution_count": 14
        },
        {
          "output_type": "display_data",
          "data": {
            "image/png": "[encoded data removed]",
            "text/plain": [
              "<Figure size 432x288 with 2 Axes>"
            ]
          },
          "metadata": {
            "tags": [],
            "needs_background": "light"
          }
        }
      ]
    }
  ]
}